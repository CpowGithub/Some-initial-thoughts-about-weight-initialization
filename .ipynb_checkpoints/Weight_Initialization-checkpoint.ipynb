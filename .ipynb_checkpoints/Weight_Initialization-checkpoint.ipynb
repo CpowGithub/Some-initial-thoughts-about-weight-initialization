{
 "cells": [
  {
   "cell_type": "markdown",
   "metadata": {},
   "source": [
    "*Please note: This is a coding challenge I set for myself.*\n",
    "    \n",
    "## Coding Challenge:\n",
    "\n",
    "1. Get more practice with jupyter notebook\n",
    "2. Get more practice with git\n",
    "3. Get more practice with python\n",
    "4. Learn how to use Tensorflow<br>\n",
    "4.1. Learn how to use basic weight initialization technics in TensorFlow\n",
    "\n"
   ]
  },
  {
   "cell_type": "markdown",
   "metadata": {},
   "source": [
    "## Some initial thoughts about weight initialization (in TensorFlow)"
   ]
  },
  {
   "cell_type": "markdown",
   "metadata": {},
   "source": [
    "### Ones and Zeros"
   ]
  },
  {
   "cell_type": "markdown",
   "metadata": {},
   "source": [
    "* set all weights to zero or set all weights to one\n",
    "* this is a very bad idea!\n",
    "* if every weight is the same the backpropagation algorithm will evaluate gradients that are pretty much the same -> the learning process will be very slow or even impossible"
   ]
  },
  {
   "cell_type": "markdown",
   "metadata": {},
   "source": [
    "### Uniform Distribution"
   ]
  },
  {
   "cell_type": "markdown",
   "metadata": {},
   "source": [
    "* a uniform distribution is a probability distribution where getting a number anywhere in a certain range is equally probable\n",
    "* typically in a range of 0 and 1\n",
    "* pick random numbers from a uniform distribution to initialize the weights\n"
   ]
  },
  {
   "cell_type": "code",
   "execution_count": 1,
   "metadata": {
    "collapsed": true
   },
   "outputs": [],
   "source": [
    "import numpy as np\n",
    "import matplotlib.pyplot as plt\n",
    "import tensorflow as tf\n",
    "%matplotlib inline"
   ]
  },
  {
   "cell_type": "code",
   "execution_count": 13,
   "metadata": {},
   "outputs": [
    {
     "data": {
      "image/png": "[encoded data removed]",
      "text/plain": [
       "<matplotlib.figure.Figure at 0x210fd9eb860>"
      ]
     },
     "metadata": {},
     "output_type": "display_data"
    }
   ],
   "source": [
    "title = \"Uniform Distribution\"\n",
    "uniform_dist = tf.random_uniform([1000], -3, 3)\n",
    "hist_range = (-4, 4)\n",
    "\n",
    "with tf.Session() as sess:\n",
    "    values = sess.run(uniform_dist)\n",
    "\n",
    "plt.title(title)\n",
    "plt.hist(values, np.linspace(*hist_range, num=round(len(values)/2)))\n",
    "plt.show()"
   ]
  },
  {
   "cell_type": "markdown",
   "metadata": {},
   "source": [
    "* a rule of thumb is to set the weights in a neural network close to zero without being too small\n",
    "* too small numbers lead to smaller accuracy\n",
    "\n",
    "Good practice: \n",
    "* init weights in a range between $-y$ and $y$ where $y = \\sqrt{\\frac{1}{x}}$\n",
    "\n",
    "    $x$ = number of inputs to a given neuron"
   ]
  },
  {
   "cell_type": "markdown",
   "metadata": {},
   "source": [
    "### Normal Distribution"
   ]
  },
  {
   "cell_type": "markdown",
   "metadata": {},
   "source": [
    "* we have a higher probability of getting a number near zero\n",
    "* on average the normal distribution is a better way to initialize the weights of a neural net than the uniform distribution"
   ]
  },
  {
   "cell_type": "code",
   "execution_count": 14,
   "metadata": {},
   "outputs": [
    {
     "data": {
      "image/png": "[encoded data removed]",
      "text/plain": [
       "<matplotlib.figure.Figure at 0x210fd954a20>"
      ]
     },
     "metadata": {},
     "output_type": "display_data"
    }
   ],
   "source": [
    "title = \"Normal Distribution\"\n",
    "normal_dist = tf.random_normal([1000])\n",
    "hist_range = (-4, 4)\n",
    "\n",
    "with tf.Session() as sess:\n",
    "    values = sess.run(normal_dist)\n",
    "\n",
    "plt.title(title)\n",
    "plt.hist(values, np.linspace(*hist_range, num=round(len(values)/2)))\n",
    "plt.show()"
   ]
  },
  {
   "cell_type": "markdown",
   "metadata": {},
   "source": [
    "### Truncated normal distribution"
   ]
  },
  {
   "cell_type": "markdown",
   "metadata": {},
   "source": [
    "* cause there are outliners in the normal distribution that could be very high it is a good practice to use a truncated normal distribution\n",
    "* truncated normal distribution means that we limit the range of the normal distribution to a given threshold value"
   ]
  },
  {
   "cell_type": "code",
   "execution_count": 15,
   "metadata": {},
   "outputs": [
    {
     "data": {
      "image/png": "[encoded data removed]",
      "text/plain": [
       "<matplotlib.figure.Figure at 0x210fcce2b00>"
      ]
     },
     "metadata": {},
     "output_type": "display_data"
    }
   ],
   "source": [
    "title = \"Truncated Normal Distribution\"\n",
    "normal_dist = tf.truncated_normal([1000])\n",
    "hist_range = (-4, 4)\n",
    "\n",
    "with tf.Session() as sess:\n",
    "    values = sess.run(normal_dist)\n",
    "\n",
    "plt.title(title)\n",
    "plt.hist(values, np.linspace(*hist_range, num=round(len(values)/2)))\n",
    "plt.show()"
   ]
  }
 ],
 "metadata": {
  "kernelspec": {
   "display_name": "Python 3",
   "language": "python",
   "name": "python3"
  },
  "language_info": {
   "codemirror_mode": {
    "name": "ipython",
    "version": 3
   },
   "file_extension": ".py",
   "mimetype": "text/x-python",
   "name": "python",
   "nbconvert_exporter": "python",
   "pygments_lexer": "ipython3",
   "version": "3.6.4"
  },
  "varInspector": {
   "cols": {
    "lenName": 16,
    "lenType": 16,
    "lenVar": 40
   },
   "kernels_config": {
    "python": {
     "delete_cmd_postfix": "",
     "delete_cmd_prefix": "del ",
     "library": "var_list.py",
     "varRefreshCmd": "print(var_dic_list())"
    },
    "r": {
     "delete_cmd_postfix": ") ",
     "delete_cmd_prefix": "rm(",
     "library": "var_list.r",
     "varRefreshCmd": "cat(var_dic_list()) "
    }
   },
   "types_to_exclude": [
    "module",
    "function",
    "builtin_function_or_method",
    "instance",
    "_Feature"
   ],
   "window_display": false
  }
 },
 "nbformat": 4,
 "nbformat_minor": 2
}
